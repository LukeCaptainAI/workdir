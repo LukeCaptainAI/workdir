{
 "cells": [
  {
   "cell_type": "code",
   "execution_count": null,
   "metadata": {
    "collapsed": false,
    "jupyter": {
     "outputs_hidden": false
    }
   },
   "outputs": [],
   "source": [
    "%matplotlib inline"
   ]
  },
  {
   "cell_type": "markdown",
   "metadata": {},
   "source": [
    "\n",
    "# Gradient\n",
    "\n",
    "Use `metpy.calc.gradient`.\n",
    "\n",
    "This example demonstrates the various ways that MetPy's gradient function\n",
    "can be utilized.\n"
   ]
  },
  {
   "cell_type": "code",
   "execution_count": null,
   "metadata": {
    "collapsed": false,
    "jupyter": {
     "outputs_hidden": false
    }
   },
   "outputs": [],
   "source": [
    "import numpy as np\n",
    "\n",
    "import metpy.calc as mpcalc\n",
    "from metpy.units import units"
   ]
  },
  {
   "cell_type": "markdown",
   "metadata": {},
   "source": [
    "Create some test data to use for our example\n",
    "\n"
   ]
  },
  {
   "cell_type": "code",
   "execution_count": null,
   "metadata": {
    "collapsed": false,
    "jupyter": {
     "outputs_hidden": false
    }
   },
   "outputs": [],
   "source": [
    "data = np.array([[23, 24, 23],\n",
    "                 [25, 26, 25],\n",
    "                 [27, 28, 27],\n",
    "                 [24, 25, 24]]) * units.degC\n",
    "\n",
    "# Create an array of x position data (the coordinates of our temperature data)\n",
    "x = np.array([[1, 2, 3],\n",
    "              [1, 2, 3],\n",
    "              [1, 2, 3],\n",
    "              [1, 2, 3]]) * units.kilometer\n",
    "\n",
    "y = np.array([[1, 1, 1],\n",
    "              [2, 2, 2],\n",
    "              [3, 3, 3],\n",
    "              [4, 4, 4]]) * units.kilometer"
   ]
  },
  {
   "cell_type": "markdown",
   "metadata": {},
   "source": [
    "Calculate the gradient using the coordinates of the data\n",
    "\n"
   ]
  },
  {
   "cell_type": "code",
   "execution_count": null,
   "metadata": {
    "collapsed": false,
    "jupyter": {
     "outputs_hidden": false
    }
   },
   "outputs": [],
   "source": [
    "grad = mpcalc.gradient(data, coordinates=(y, x))\n",
    "print('Gradient in y direction: ', grad[0])\n",
    "print('Gradient in x direction: ', grad[1])"
   ]
  },
  {
   "cell_type": "markdown",
   "metadata": {},
   "source": [
    "It's also possible that we do not have the position of data points, but know\n",
    "that they are evenly spaced. We can then specify a scalar delta value for each\n",
    "axes.\n",
    "\n"
   ]
  },
  {
   "cell_type": "code",
   "execution_count": null,
   "metadata": {
    "collapsed": false,
    "jupyter": {
     "outputs_hidden": false
    }
   },
   "outputs": [],
   "source": [
    "x_delta = 2 * units.km\n",
    "y_delta = 1 * units.km\n",
    "grad = mpcalc.gradient(data, deltas=(y_delta, x_delta))\n",
    "print('Gradient in y direction: ', grad[0])\n",
    "print('Gradient in x direction: ', grad[1])"
   ]
  },
  {
   "cell_type": "markdown",
   "metadata": {},
   "source": [
    "Finally, the deltas can be arrays for unevenly spaced data.\n",
    "\n"
   ]
  },
  {
   "cell_type": "code",
   "execution_count": null,
   "metadata": {
    "collapsed": false,
    "jupyter": {
     "outputs_hidden": false
    }
   },
   "outputs": [],
   "source": [
    "x_deltas = np.array([[2, 3],\n",
    "                     [1, 3],\n",
    "                     [2, 3],\n",
    "                     [1, 2]]) * units.kilometer\n",
    "y_deltas = np.array([[2, 3, 1],\n",
    "                     [1, 3, 2],\n",
    "                     [2, 3, 1]]) * units.kilometer\n",
    "grad = mpcalc.gradient(data, deltas=(y_deltas, x_deltas))\n",
    "print('Gradient in y direction: ', grad[0])\n",
    "print('Gradient in x direction: ', grad[1])"
   ]
  }
 ],
 "metadata": {
  "kernelspec": {
   "display_name": "Python 3",
   "language": "python",
   "name": "python3"
  },
  "language_info": {
   "codemirror_mode": {
    "name": "ipython",
    "version": 3
   },
   "file_extension": ".py",
   "mimetype": "text/x-python",
   "name": "python",
   "nbconvert_exporter": "python",
   "pygments_lexer": "ipython3",
   "version": "3.8.5"
  }
 },
 "nbformat": 4,
 "nbformat_minor": 4
}
