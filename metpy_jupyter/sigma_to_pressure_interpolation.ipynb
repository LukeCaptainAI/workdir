{
 "cells": [
  {
   "cell_type": "code",
   "execution_count": null,
   "metadata": {
    "collapsed": false,
    "jupyter": {
     "outputs_hidden": false
    }
   },
   "outputs": [],
   "source": [
    "%matplotlib inline"
   ]
  },
  {
   "cell_type": "markdown",
   "metadata": {},
   "source": [
    "\n",
    "# Sigma to Pressure Interpolation\n",
    "\n",
    "By using `metpy.calc.log_interp`, data with sigma as the vertical coordinate can be\n",
    "interpolated to isobaric coordinates.\n"
   ]
  },
  {
   "cell_type": "code",
   "execution_count": null,
   "metadata": {
    "collapsed": false,
    "jupyter": {
     "outputs_hidden": false
    }
   },
   "outputs": [],
   "source": [
    "import cartopy.crs as ccrs\n",
    "import cartopy.feature as cfeature\n",
    "import matplotlib.pyplot as plt\n",
    "from netCDF4 import Dataset, num2date\n",
    "\n",
    "from metpy.cbook import get_test_data\n",
    "from metpy.interpolate import log_interpolate_1d\n",
    "from metpy.plots import add_metpy_logo, add_timestamp\n",
    "from metpy.units import units"
   ]
  },
  {
   "cell_type": "markdown",
   "metadata": {},
   "source": [
    "**Data**\n",
    "\n",
    "The data for this example comes from the outer domain of a WRF-ARW model forecast\n",
    "initialized at 1200 UTC on 03 June 1980. Model data courtesy Matthew Wilson, Valparaiso\n",
    "University Department of Geography and Meteorology.\n",
    "\n"
   ]
  },
  {
   "cell_type": "code",
   "execution_count": null,
   "metadata": {
    "collapsed": false,
    "jupyter": {
     "outputs_hidden": false
    }
   },
   "outputs": [],
   "source": [
    "data = Dataset(get_test_data('wrf_example.nc', False))\n",
    "lat = data.variables['lat'][:]\n",
    "lon = data.variables['lon'][:]\n",
    "time = data.variables['time']\n",
    "vtimes = num2date(time[:], time.units)\n",
    "temperature = units.Quantity(data.variables['temperature'][:], 'degC')\n",
    "pres = units.Quantity(data.variables['pressure'][:], 'Pa')\n",
    "hgt = units.Quantity(data.variables['height'][:], 'meter')"
   ]
  },
  {
   "cell_type": "markdown",
   "metadata": {},
   "source": [
    "Array of desired pressure levels\n",
    "\n"
   ]
  },
  {
   "cell_type": "code",
   "execution_count": null,
   "metadata": {
    "collapsed": false,
    "jupyter": {
     "outputs_hidden": false
    }
   },
   "outputs": [],
   "source": [
    "plevs = [700.] * units.hPa"
   ]
  },
  {
   "cell_type": "markdown",
   "metadata": {},
   "source": [
    "**Interpolate The Data**\n",
    "\n",
    "Now that the data is ready, we can interpolate to the new isobaric levels. The data is\n",
    "interpolated from the irregular pressure values for each sigma level to the new input\n",
    "mandatory isobaric levels. `mpcalc.log_interp` will interpolate over a specified dimension\n",
    "with the `axis` argument. In this case, `axis=1` will correspond to interpolation on the\n",
    "vertical axis. The interpolated data is output in a list, so we will pull out each\n",
    "variable for plotting.\n",
    "\n"
   ]
  },
  {
   "cell_type": "code",
   "execution_count": null,
   "metadata": {
    "collapsed": false,
    "jupyter": {
     "outputs_hidden": false
    }
   },
   "outputs": [],
   "source": [
    "height, temp = log_interpolate_1d(plevs, pres, hgt, temperature, axis=1)"
   ]
  },
  {
   "cell_type": "markdown",
   "metadata": {},
   "source": [
    "**Plotting the Data for 700 hPa.**\n",
    "\n"
   ]
  },
  {
   "cell_type": "code",
   "execution_count": null,
   "metadata": {
    "collapsed": false,
    "jupyter": {
     "outputs_hidden": false
    }
   },
   "outputs": [],
   "source": [
    "# Set up our projection\n",
    "crs = ccrs.LambertConformal(central_longitude=-100.0, central_latitude=45.0)\n",
    "\n",
    "# Set the forecast hour\n",
    "FH = 1\n",
    "\n",
    "# Create the figure and grid for subplots\n",
    "fig = plt.figure(figsize=(17, 12))\n",
    "add_metpy_logo(fig, 470, 320, size='large')\n",
    "\n",
    "# Plot 700 hPa\n",
    "ax = plt.subplot(111, projection=crs)\n",
    "ax.add_feature(cfeature.COASTLINE.with_scale('50m'), linewidth=0.75)\n",
    "ax.add_feature(cfeature.STATES, linewidth=0.5)\n",
    "\n",
    "# Plot the heights\n",
    "cs = ax.contour(lon, lat, height[FH, 0, :, :], transform=ccrs.PlateCarree(),\n",
    "                colors='k', linewidths=1.0, linestyles='solid')\n",
    "cs.clabel(fontsize=10, inline=1, inline_spacing=7, fmt='%i', rightside_up=True,\n",
    "          use_clabeltext=True)\n",
    "\n",
    "# Contour the temperature\n",
    "cf = ax.contourf(lon, lat, temp[FH, 0, :, :], range(-20, 20, 1), cmap=plt.cm.RdBu_r,\n",
    "                 transform=ccrs.PlateCarree())\n",
    "cb = fig.colorbar(cf, orientation='horizontal', aspect=65, shrink=0.5, pad=0.05,\n",
    "                  extendrect='True')\n",
    "cb.set_label('Celsius', size='x-large')\n",
    "\n",
    "ax.set_extent([-106.5, -90.4, 34.5, 46.75], crs=ccrs.PlateCarree())\n",
    "\n",
    "# Make the axis title\n",
    "ax.set_title(f'{plevs[0]:~.0f} Heights (m) and Temperature (C)', loc='center', fontsize=10)\n",
    "\n",
    "# Set the figure title\n",
    "fig.suptitle(f'WRF-ARW Forecast VALID: {vtimes[FH]} UTC', fontsize=14)\n",
    "add_timestamp(ax, vtimes[FH], y=0.02, high_contrast=True)\n",
    "\n",
    "plt.show()"
   ]
  }
 ],
 "metadata": {
  "kernelspec": {
   "display_name": "Python 3",
   "language": "python",
   "name": "python3"
  },
  "language_info": {
   "codemirror_mode": {
    "name": "ipython",
    "version": 3
   },
   "file_extension": ".py",
   "mimetype": "text/x-python",
   "name": "python",
   "nbconvert_exporter": "python",
   "pygments_lexer": "ipython3",
   "version": "3.8.5"
  }
 },
 "nbformat": 4,
 "nbformat_minor": 4
}
