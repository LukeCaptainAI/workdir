{
 "cells": [
  {
   "cell_type": "code",
   "execution_count": null,
   "metadata": {
    "collapsed": false,
    "jupyter": {
     "outputs_hidden": false
    }
   },
   "outputs": [],
   "source": [
    "%matplotlib inline"
   ]
  },
  {
   "cell_type": "markdown",
   "metadata": {},
   "source": [
    "\n",
    "# GINI Water Vapor Imagery\n",
    "\n",
    "Use MetPy's support for GINI files to read in a water vapor satellite image and plot the\n",
    "data using CartoPy.\n"
   ]
  },
  {
   "cell_type": "code",
   "execution_count": 1,
   "metadata": {
    "collapsed": false,
    "jupyter": {
     "outputs_hidden": false
    }
   },
   "outputs": [
    {
     "name": "stderr",
     "output_type": "stream",
     "text": [
      "Downloading file 'sfstns.tbl' from 'https://github.com/Unidata/MetPy/raw/v1.0/staticdata/sfstns.tbl' to '/home/luke/.cache/metpy/v1.0'.\n",
      "Downloading file 'master.txt' from 'https://github.com/Unidata/MetPy/raw/v1.0/staticdata/master.txt' to '/home/luke/.cache/metpy/v1.0'.\n",
      "Downloading file 'stations.txt' from 'https://github.com/Unidata/MetPy/raw/v1.0/staticdata/stations.txt' to '/home/luke/.cache/metpy/v1.0'.\n",
      "Downloading file 'airport-codes.csv' from 'https://github.com/Unidata/MetPy/raw/v1.0/staticdata/airport-codes.csv' to '/home/luke/.cache/metpy/v1.0'.\n"
     ]
    }
   ],
   "source": [
    "import cartopy.feature as cfeature\n",
    "import matplotlib.pyplot as plt\n",
    "import xarray as xr\n",
    "\n",
    "from metpy.cbook import get_test_data\n",
    "from metpy.io import GiniFile\n",
    "from metpy.plots import add_metpy_logo, add_timestamp, colortables"
   ]
  },
  {
   "cell_type": "code",
   "execution_count": 2,
   "metadata": {
    "collapsed": false,
    "jupyter": {
     "outputs_hidden": false
    }
   },
   "outputs": [
    {
     "name": "stderr",
     "output_type": "stream",
     "text": [
      "Downloading file 'WEST-CONUS_4km_WV_20151208_2200.gini' from 'https://github.com/Unidata/MetPy/raw/v1.0/staticdata/WEST-CONUS_4km_WV_20151208_2200.gini' to '/home/luke/.cache/metpy/v1.0'.\n"
     ]
    },
    {
     "name": "stdout",
     "output_type": "stream",
     "text": [
      "GiniFile: GOES-15 West CONUS WV (6.5/6.7 micron)\n",
      "\tTime: 2015-12-08 22:00:19\n",
      "\tSize: 1280x1100\n",
      "\tProjection: lambert_conformal\n",
      "\tLower Left Corner (Lon, Lat): (-133.4588, 12.19)\n",
      "\tResolution: 4km\n"
     ]
    }
   ],
   "source": [
    "# Open the GINI file from the test data\n",
    "f = GiniFile(get_test_data('WEST-CONUS_4km_WV_20151208_2200.gini'))\n",
    "print(f)"
   ]
  },
  {
   "cell_type": "markdown",
   "metadata": {},
   "source": [
    "Get a Dataset view of the data (essentially a NetCDF-like interface to the\n",
    "underlying data). Pull out the data and (x, y) coordinates. We use `metpy.parse_cf` to\n",
    "handle parsing some netCDF Climate and Forecasting (CF) metadata to simplify working with\n",
    "projections.\n",
    "\n"
   ]
  },
  {
   "cell_type": "code",
   "execution_count": null,
   "metadata": {
    "collapsed": false,
    "jupyter": {
     "outputs_hidden": false
    }
   },
   "outputs": [],
   "source": [
    "ds = xr.open_dataset(f)\n",
    "x = ds.variables['x'][:]\n",
    "y = ds.variables['y'][:]\n",
    "dat = ds.metpy.parse_cf('WV')"
   ]
  },
  {
   "cell_type": "markdown",
   "metadata": {},
   "source": [
    "Plot the image. We use MetPy's xarray/cartopy integration to automatically handle parsing\n",
    "the projection information.\n",
    "\n"
   ]
  },
  {
   "cell_type": "code",
   "execution_count": null,
   "metadata": {
    "collapsed": false,
    "jupyter": {
     "outputs_hidden": false
    }
   },
   "outputs": [],
   "source": [
    "fig = plt.figure(figsize=(10, 12))\n",
    "add_metpy_logo(fig, 125, 145)\n",
    "ax = fig.add_subplot(1, 1, 1, projection=dat.metpy.cartopy_crs)\n",
    "wv_norm, wv_cmap = colortables.get_with_range('WVCIMSS', 100, 260)\n",
    "wv_cmap.set_under('k')\n",
    "im = ax.imshow(dat[:], cmap=wv_cmap, norm=wv_norm,\n",
    "               extent=(x.min(), x.max(), y.min(), y.max()), origin='upper')\n",
    "ax.add_feature(cfeature.COASTLINE.with_scale('50m'))\n",
    "add_timestamp(ax, f.prod_desc.datetime, y=0.02, high_contrast=True)\n",
    "\n",
    "plt.show()"
   ]
  }
 ],
 "metadata": {
  "kernelspec": {
   "display_name": "Python 3",
   "language": "python",
   "name": "python3"
  },
  "language_info": {
   "codemirror_mode": {
    "name": "ipython",
    "version": 3
   },
   "file_extension": ".py",
   "mimetype": "text/x-python",
   "name": "python",
   "nbconvert_exporter": "python",
   "pygments_lexer": "ipython3",
   "version": "3.8.5"
  }
 },
 "nbformat": 4,
 "nbformat_minor": 4
}
