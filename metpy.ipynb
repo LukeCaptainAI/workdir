{
 "cells": [
  {
   "cell_type": "code",
   "execution_count": null,
   "metadata": {},
   "outputs": [],
   "source": [
    "import xarray as xr\n",
    "from metpy.cbook import get_test_data\n",
    "from metpy.plots import ImagePlot, MapPanel, PanelContainer\n",
    "from metpy.units import units\n",
    "\n",
    "# Use sample NARR data for plotting\n",
    "narr = xr.open_dataset(get_test_data('narr_example.nc', as_file_obj=False))\n",
    "\n",
    "img = ImagePlot()\n",
    "img.data = narr\n",
    "img.field = 'Geopotential_height'\n",
    "img.level = 850 * units.hPa\n",
    "\n",
    "panel = MapPanel()\n",
    "panel.area = 'us'\n",
    "panel.layers = ['coastline', 'borders', 'states', 'rivers', 'ocean', 'land']\n",
    "panel.title = 'NARR Example'\n",
    "panel.plots = [img]\n",
    "\n",
    "pc = PanelContainer()\n",
    "pc.size = (10, 8)\n",
    "pc.panels = [panel]\n",
    "pc.show()\n"
   ]
  }
 ],
 "metadata": {
  "kernelspec": {
   "display_name": "Python 3",
   "language": "python",
   "name": "python3"
  },
  "language_info": {
   "codemirror_mode": {
    "name": "ipython",
    "version": 3
   },
   "file_extension": ".py",
   "mimetype": "text/x-python",
   "name": "python",
   "nbconvert_exporter": "python",
   "pygments_lexer": "ipython3",
   "version": "3.8.5"
  }
 },
 "nbformat": 4,
 "nbformat_minor": 4
}
